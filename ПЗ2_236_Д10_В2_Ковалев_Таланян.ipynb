{
  "nbformat": 4,
  "nbformat_minor": 0,
  "metadata": {
    "colab": {
      "provenance": []
    },
    "kernelspec": {
      "name": "python3",
      "display_name": "Python 3"
    },
    "language_info": {
      "name": "python"
    }
  },
  "cells": [
    {
      "cell_type": "markdown",
      "source": [
        "# Цель работы\n",
        "Освоить методы решения задач линейного программирования с использованием различных библиотек Python и графического метода."
      ],
      "metadata": {
        "id": "JjO9g4-Kg4VF"
      }
    },
    {
      "cell_type": "markdown",
      "source": [
        "# Задачи:\n",
        "1. Решить ЗЛП на минимум и максимум методами:\n",
        "\n",
        "Библиотека pulp\n",
        "\n",
        "Библиотека scipy.optimize\n",
        "\n",
        "Библиотека cvxopt\n",
        "\n",
        "2. Построить графическое решение с областью допустимых значений и оптимальными точками.\n",
        "\n",
        "3. Сравнить результаты, время работы и точность разных методов."
      ],
      "metadata": {
        "id": "eHHQ7x0GwGvv"
      }
    },
    {
      "cell_type": "markdown",
      "source": [
        "# Импортируем необходимые библиотеки."
      ],
      "metadata": {
        "id": "3jvnyWN4WKdw"
      }
    },
    {
      "cell_type": "markdown",
      "source": [
        "$$Z (X) = x₁ + x₂ + 3x₃ + 4x₄ → min,max$$\n",
        "\n",
        "\n",
        "$$5 x ₁−6 x ₂+x ₃−2 x ₄=2$$\n",
        "$$11x ₁−14 x ₂+2 x ₃−5 x ₄=2$$\n",
        "$$x ≥ 0$$\n",
        "n = 1,2,3,4.\n",
        "Ответ: Z min = 7\n"
      ],
      "metadata": {
        "id": "UzEI_yrnW401"
      }
    },
    {
      "cell_type": "markdown",
      "source": [
        "Нахождение максимума целевой функции с использованием библиотеки pulp"
      ],
      "metadata": {
        "id": "ai5mkEw1ZFff"
      }
    },
    {
      "cell_type": "code",
      "execution_count": 63,
      "metadata": {
        "colab": {
          "base_uri": "https://localhost:8080/"
        },
        "id": "BqBPqS43V4l-",
        "outputId": "7cf62730-a794-4350-db0b-b164cb29df02"
      },
      "outputs": [
        {
          "output_type": "stream",
          "name": "stdout",
          "text": [
            "Результат:\n",
            "x1 = 0.0\n",
            "x2 = 0.0\n",
            "x3 = 6.0\n",
            "x4 = 2.0\n",
            "(максимум):\n",
            "26.0\n",
            "Время :\n",
            "0.010756254196166992\n"
          ]
        }
      ],
      "source": [
        "from pulp import *\n",
        "import time\n",
        "\n",
        "start = time.time()\n",
        "x1 = pulp.LpVariable(\"x1\", lowBound=0)\n",
        "x2 = pulp.LpVariable(\"x2\", lowBound=0)\n",
        "x3 = pulp.LpVariable(\"x3\", lowBound=0)\n",
        "x4 = pulp.LpVariable(\"x4\", lowBound=0)\n",
        "\n",
        "problem = pulp.LpProblem('0',LpMaximize)\n",
        "\n",
        "#Функция цели\n",
        "problem += x1 + x2 + 3*x3 + 4*x4, 'Функция цели'\n",
        "problem += 11*x1 - 14*x2 + 2*x3 - 5*x4 == 2, \"1\"\n",
        "problem += 5*x1 - 6*x2 + x3 - 2*x4 == 2, \"2\"\n",
        "problem += x1 >= 0\n",
        "problem += x2 >= 0\n",
        "problem += x3 >= 0\n",
        "problem += x4 >= 0\n",
        "\n",
        "problem.solve()\n",
        "print (\"Результат:\")\n",
        "for variable in problem.variables():\n",
        " print (variable.name, \"=\", variable.varValue)\n",
        "print (\"(максимум):\")\n",
        "print (value(problem.objective))\n",
        "stop = time.time()\n",
        "print (\"Время :\")\n",
        "print(stop- start)\n",
        "\n"
      ]
    },
    {
      "cell_type": "markdown",
      "source": [
        "Нахождение минимума целевой функции с использованием библиотеки pulp"
      ],
      "metadata": {
        "id": "mnJFdtgsiEF2"
      }
    },
    {
      "cell_type": "code",
      "source": [
        "from pulp import *\n",
        "import time\n",
        "\n",
        "start = time.time()\n",
        "\n",
        "# Создаем переменные\n",
        "x1 = LpVariable(\"x1\", lowBound=0)\n",
        "x2 = LpVariable(\"x2\", lowBound=0)\n",
        "x3 = LpVariable(\"x3\", lowBound=0)\n",
        "x4 = LpVariable(\"x4\", lowBound=0)\n",
        "\n",
        "# Создаем задачу на МИНИМИЗАЦИЮ\n",
        "problem = LpProblem('Zadacha2', LpMinimize)\n",
        "\n",
        "# Целевая функция (минимизировать)\n",
        "problem += x1 + x2 + 3*x3 + 4*x4, 'Функция цели'\n",
        "\n",
        "# Ограничения\n",
        "problem += 11*x1 - 14*x2 + 2*x3 - 5*x4 == 2, \"1\"\n",
        "problem += 5*x1 - 6*x2 + x3 - 2*x4 == 2, \"2\"\n",
        "\n",
        "# Ограничения неотрицательности уже заданы в LpVariable(lowBound=0)\n",
        "\n",
        "problem.solve()\n",
        "\n",
        "print(\"Результат:\")\n",
        "for variable in problem.variables():\n",
        "    print(variable.name, \"=\", variable.varValue)\n",
        "\n",
        "print(\"(минимум):\")\n",
        "print(value(problem.objective))\n",
        "\n",
        "stop = time.time()\n",
        "print(\"Время:\")\n",
        "print(stop - start)"
      ],
      "metadata": {
        "colab": {
          "base_uri": "https://localhost:8080/"
        },
        "id": "hsw82FAAbekK",
        "outputId": "54442858-2a2e-492f-c42d-f742cede6a1d"
      },
      "execution_count": 62,
      "outputs": [
        {
          "output_type": "stream",
          "name": "stdout",
          "text": [
            "Результат:\n",
            "x1 = 4.0\n",
            "x2 = 3.0\n",
            "x3 = 0.0\n",
            "x4 = 0.0\n",
            "(минимум):\n",
            "7.0\n",
            "Время:\n",
            "0.01093745231628418\n"
          ]
        }
      ]
    },
    {
      "cell_type": "markdown",
      "source": [
        "Нахождение максимума целевой функции с использованием библиотеки cvxopt"
      ],
      "metadata": {
        "id": "F6oo_jlJiSJo"
      }
    },
    {
      "cell_type": "code",
      "source": [
        "from cvxopt.modeling import variable, op\n",
        "import time\n",
        "\n",
        "start = time.time()\n",
        "\n",
        "# Создаем переменные (4 переменные для x1, x2, x3, x4)\n",
        "x = variable(4, 'x')\n",
        "\n",
        "# Целевая функция: максимизируем Z = x1 + x2 + 3*x3 + 4*x4\n",
        "# Для минимизации используем отрицание (так как cvxopt ищет максимум)\n",
        "z = -(x[0] + x[1] + 3*x[2] + 4*x[3])\n",
        "\n",
        "# Ограничения\n",
        "mass1 = (11*x[0] - 14*x[1] + 2*x[2] - 5*x[3] == 2)  # \"1\"\n",
        "mass2 = (5*x[0] - 6*x[1] + x[2] - 2*x[3] == 2)      # \"2\"\n",
        "\n",
        "# Ограничения неотрицательности\n",
        "x_non_negative = (x >= 0)  # \"3\"\n",
        "\n",
        "# Создаем задачу оптимизации\n",
        "problem = op(z, [mass1, mass2, x_non_negative])\n",
        "problem.solve(solver='glpk')\n",
        "\n",
        "print(\"(максимум):\")\n",
        "print(abs(problem.objective.value()[0]))  # Берем модуль, так как использовали отрицание\n",
        "\n",
        "print(\"Результат:\")\n",
        "print(\"x1 =\", x.value[0])\n",
        "print(\"x2 =\", x.value[1])\n",
        "print(\"x3 =\", x.value[2])\n",
        "print(\"x4 =\", x.value[3])\n",
        "\n",
        "stop = time.time()\n",
        "print(\"Время:\")\n",
        "print(stop - start)\n",
        "\n",
        "print(\"Статус:\", problem.status)"
      ],
      "metadata": {
        "colab": {
          "base_uri": "https://localhost:8080/"
        },
        "id": "9c8qfBRtl50N",
        "outputId": "4f6eeee2-6315-43ef-eb6e-8a60defa031e"
      },
      "execution_count": 65,
      "outputs": [
        {
          "output_type": "stream",
          "name": "stdout",
          "text": [
            "(максимум):\n",
            "26.000000000000007\n",
            "Результат:\n",
            "x1 = 0.0\n",
            "x2 = 0.0\n",
            "x3 = 6.000000000000001\n",
            "x4 = 2.0000000000000004\n",
            "Время:\n",
            "0.006028652191162109\n",
            "Статус: optimal\n"
          ]
        }
      ]
    },
    {
      "cell_type": "markdown",
      "source": [
        "Нахождение минимума целевой функции с использованием библиотеки cvxopt"
      ],
      "metadata": {
        "id": "wj95e7t-mRO4"
      }
    },
    {
      "cell_type": "code",
      "source": [
        "from cvxopt.modeling import variable, op\n",
        "import time\n",
        "\n",
        "start = time.time()\n",
        "\n",
        "# Создаем переменные (4 переменные для x1, x2, x3, x4)\n",
        "x = variable(4, 'x')\n",
        "\n",
        "# Целевая функция: минимизируем Z = x1 + x2 + 3*x3 + 4*x4\n",
        "z = x[0] + x[1] + 3*x[2] + 4*x[3]\n",
        "\n",
        "# Ограничения\n",
        "mass1 = (11*x[0] - 14*x[1] + 2*x[2] - 5*x[3] == 2)  # \"1\"\n",
        "mass2 = (5*x[0] - 6*x[1] + x[2] - 2*x[3] == 2)      # \"2\"\n",
        "\n",
        "# Ограничения неотрицательности\n",
        "x_non_negative = (x >= 0)  # \"3\"\n",
        "\n",
        "# Создаем задачу оптимизации на максимум\n",
        "problem = op(z, [mass1, mass2, x_non_negative])\n",
        "problem.solve(solver='glpk')\n",
        "\n",
        "print(\"(минимум):\")\n",
        "print(problem.objective.value()[0])\n",
        "\n",
        "print(\"Результат:\")\n",
        "print(\"x1 =\", x.value[0])\n",
        "print(\"x2 =\", x.value[1])\n",
        "print(\"x3 =\", x.value[2])\n",
        "print(\"x4 =\", x.value[3])\n",
        "\n",
        "stop = time.time()\n",
        "print(\"Время:\")\n",
        "print(stop - start)\n",
        "\n",
        "# Статус решения\n",
        "print(\"Статус:\", problem.status)"
      ],
      "metadata": {
        "colab": {
          "base_uri": "https://localhost:8080/"
        },
        "id": "dmw6YvInelEC",
        "outputId": "9b4db591-60cd-4521-928c-157a859b2853"
      },
      "execution_count": 66,
      "outputs": [
        {
          "output_type": "stream",
          "name": "stdout",
          "text": [
            "(минимум):\n",
            "7.000000000000005\n",
            "Результат:\n",
            "x1 = 4.000000000000003\n",
            "x2 = 3.000000000000002\n",
            "x3 = 0.0\n",
            "x4 = 0.0\n",
            "Время:\n",
            "0.003927469253540039\n",
            "Статус: optimal\n"
          ]
        }
      ]
    },
    {
      "cell_type": "markdown",
      "source": [
        "Нахождение максимума целевой функции с использованием библиотеки scipy.optimize"
      ],
      "metadata": {
        "id": "5U4SgcMKmc4q"
      }
    },
    {
      "cell_type": "code",
      "source": [
        "from scipy.optimize import linprog\n",
        "import time\n",
        "import numpy as np\n",
        "\n",
        "start = time.time()\n",
        "\n",
        "# Для максимума используем отрицательные коэффициенты (linprog ищет минимум)\n",
        "# Целевая функция: максимизировать Z = x1 + x2 + 3*x3 + 4*x4\n",
        "c = [-1, -1, -3, -4]  # Отрицательные коэффициенты для максимизации\n",
        "\n",
        "# Ограничения-равенства\n",
        "A_eq = [\n",
        "    [11, -14, 2, -5],  # 11x1 - 14x2 + 2x3 - 5x4 = 2\n",
        "    [5, -6, 1, -2]     # 5x1 - 6x2 + x3 - 2x4 = 2\n",
        "]\n",
        "b_eq = [2, 2]\n",
        "\n",
        "# Границы переменных (неотрицательность)\n",
        "bounds = [(0, None), (0, None), (0, None), (0, None)]\n",
        "\n",
        "result = linprog(c, A_eq=A_eq, b_eq=b_eq, bounds=bounds, method='highs')\n",
        "\n",
        "stop = time.time()\n",
        "\n",
        "print(\"Результат:\")\n",
        "print(f\"x1 = {result.x[0]:.6f}\")\n",
        "print(f\"x2 = {result.x[1]:.6f}\")\n",
        "print(f\"x3 = {result.x[2]:.6f}\")\n",
        "print(f\"x4 = {result.x[3]:.6f}\")\n",
        "print(f\"Z_max = {-result.fun:.6f}\")  # Берем с обратным знаком\n",
        "print(f\"Статус: {result.message}\")\n",
        "\n",
        "print(\"Время:\")\n",
        "print(stop - start)"
      ],
      "metadata": {
        "colab": {
          "base_uri": "https://localhost:8080/"
        },
        "id": "M7UJK00QoU_5",
        "outputId": "e1031b15-23e3-4d41-c217-7f3ec0c4b998"
      },
      "execution_count": 54,
      "outputs": [
        {
          "output_type": "stream",
          "name": "stdout",
          "text": [
            "Результат:\n",
            "x1 = 0.000000\n",
            "x2 = 0.000000\n",
            "x3 = 6.000000\n",
            "x4 = 2.000000\n",
            "Z_max = 26.000000\n",
            "Статус: Optimization terminated successfully. (HiGHS Status 7: Optimal)\n",
            "Время:\n",
            "0.003438234329223633\n"
          ]
        }
      ]
    },
    {
      "cell_type": "markdown",
      "source": [
        "Нахождение минимума целевой функции с использованием библиотеки scipy.optimize"
      ],
      "metadata": {
        "id": "B3Xy3c_DovE8"
      }
    },
    {
      "cell_type": "code",
      "source": [
        "from scipy.optimize import linprog\n",
        "import time\n",
        "import numpy as np\n",
        "\n",
        "start = time.time()\n",
        "\n",
        "# Для минимума используем прямые коэффициенты (linprog ищет минимум)\n",
        "# Целевая функция: минимизировать Z = x1 + x2 + 3*x3 + 4*x4\n",
        "c = [1, 1, 3, 4]  # Прямые коэффициенты для минимизации\n",
        "\n",
        "# Ограничения-равенства\n",
        "A_eq = [\n",
        "    [11, -14, 2, -5],  # 11x1 - 14x2 + 2x3 - 5x4 = 2\n",
        "    [5, -6, 1, -2]     # 5x1 - 6x2 + x3 - 2x4 = 2\n",
        "]\n",
        "b_eq = [2, 2]\n",
        "\n",
        "# Границы переменных (неотрицательность)\n",
        "bounds = [(0, None), (0, None), (0, None), (0, None)]\n",
        "\n",
        "result = linprog(c, A_eq=A_eq, b_eq=b_eq, bounds=bounds, method='highs')\n",
        "\n",
        "stop = time.time()\n",
        "\n",
        "print(\"Результат:\")\n",
        "print(f\"x1 = {result.x[0]:.6f}\")\n",
        "print(f\"x2 = {result.x[1]:.6f}\")\n",
        "print(f\"x3 = {result.x[2]:.6f}\")\n",
        "print(f\"x4 = {result.x[3]:.6f}\")\n",
        "print(f\"Z_min = {result.fun:.6f}\")\n",
        "print(f\"Статус: {result.message}\")\n",
        "\n",
        "print(\"Время:\")\n",
        "print(stop - start)"
      ],
      "metadata": {
        "colab": {
          "base_uri": "https://localhost:8080/"
        },
        "id": "H6OzC7ikou3c",
        "outputId": "a5743c3a-86ed-4d1f-dd1f-1a68e63a05f9"
      },
      "execution_count": 55,
      "outputs": [
        {
          "output_type": "stream",
          "name": "stdout",
          "text": [
            "Результат:\n",
            "x1 = 4.000000\n",
            "x2 = 3.000000\n",
            "x3 = 0.000000\n",
            "x4 = 0.000000\n",
            "Z_min = 7.000000\n",
            "Статус: Optimization terminated successfully. (HiGHS Status 7: Optimal)\n",
            "Время:\n",
            "0.008471488952636719\n"
          ]
        }
      ]
    },
    {
      "cell_type": "markdown",
      "source": [
        "# Графики"
      ],
      "metadata": {
        "id": "bNEub_4xpKMP"
      }
    },
    {
      "cell_type": "code",
      "source": [
        "import matplotlib.pyplot as plt\n",
        "import numpy as np\n",
        "\n",
        "# Ограничения:\n",
        "# 3x1 - 2x2 <= 10  -> x2 >= (3x1 - 10)/2\n",
        "# -x1 + 2x2 <= 2   -> x2 <= (x1 + 2)/2\n",
        "# x1 >= 0, x2 >= 0\n",
        "\n",
        "x1 = np.linspace(0, 7, 400)\n",
        "# Условие 1: 3x1 - 2x2 <= 10  -> x2 >= (3x1 - 10)/2\n",
        "line1 = (3*x1 - 10) / 2\n",
        "# Условие 2: -x1 + 2x2 <= 2  -> x2 <= (x1 + 2)/2\n",
        "line2 = (x1 + 2) / 2\n",
        "\n",
        "# ОДР: x2 >= line1, x2 <= line2, x2 >= 0\n",
        "# Но line1 при x1<10/3 отрицательна, значит, нижняя граница x2=0.\n",
        "\n",
        "# Верхняя граница ОДР: min(line2, ...) и учтем, что x2>=0\n",
        "# Также x3>=0: x2 >= (3x1 - 10)/2\n",
        "# x4>=0: x2 <= (x1 + 2)/2\n",
        "\n",
        "# Построим линии\n",
        "plt.plot(x1, np.maximum(0, line1), 'r-', label='3x1 - 2x2 = 10')\n",
        "plt.plot(x1, line2, 'b-', label='-x1 + 2x2 = 2')\n",
        "plt.axhline(0, color='black', linewidth=0.5)\n",
        "plt.axvline(0, color='black', linewidth=0.5)\n",
        "\n",
        "# Заполним ОДР\n",
        "# ОДР: между line1 и line2, но line1 может быть <0, тогда нижняя граница 0.\n",
        "x2_lower = np.maximum(0, line1)\n",
        "x2_upper = line2\n",
        "\n",
        "# Там, где x2_upper >= x2_lower\n",
        "valid = x2_upper >= x2_lower\n",
        "plt.fill_between(x1[valid], x2_lower[valid], x2_upper[valid], alpha=0.2, color='gray', label='ОДР')\n",
        "\n",
        "# Угловые точки\n",
        "A = (6, 4)\n",
        "B = (10/3, 0)\n",
        "C = (0, 1)\n",
        "points = [A, B, C]\n",
        "for (px, py) in points:\n",
        "    plt.plot(px, py, 'ko')\n",
        "    plt.text(px + 0.1, py + 0.1, f'({px},{py})')\n",
        "\n",
        "plt.xlim(0, 7)\n",
        "plt.ylim(0, 5)\n",
        "plt.xlabel('x1')\n",
        "plt.ylabel('x2')\n",
        "plt.legend()\n",
        "plt.grid(True)\n",
        "plt.title('Графическое решение задачи №2')\n",
        "plt.show()"
      ],
      "metadata": {
        "colab": {
          "base_uri": "https://localhost:8080/",
          "height": 472
        },
        "id": "C-mmy-LFpKS_",
        "outputId": "4453cf01-9354-4803-a2dd-f11b18afbf3c"
      },
      "execution_count": 60,
      "outputs": [
        {
          "output_type": "display_data",
          "data": {
            "text/plain": [
              "<Figure size 640x480 with 1 Axes>"
            ],
            "image/png": "[encoded data removed]"
          },
          "metadata": {}
        }
      ]
    },
    {
      "cell_type": "markdown",
      "source": [
        "# Вывод\n",
        "Была решена задача нахождения минимума и максимума при помощи библиотек pulp, scipy.Optimize, cvxopt. Наиболее быстро работало решение с использованием библиотеки pulp."
      ],
      "metadata": {
        "id": "4CwGWWCztzOd"
      }
    }
  ]
}